{
 "cells": [
  {
   "cell_type": "code",
   "execution_count": 9,
   "metadata": {},
   "outputs": [
    {
     "name": "stdout",
     "output_type": "stream",
     "text": [
      "part 1 - bp 1 to bp 1177 - length ( 1176 )\n",
      "part 2 - bp 1178 to bp 11901 - length ( 10723 )\n",
      "part 3 - bp 11902 to bp 17526 - length ( 5624 )\n",
      "part 4 - bp 17527 to bp 17981 - length ( 454 )\n",
      "part 5 - bp 17982 to bp 20567 - length ( 2585 )\n",
      "part 6 - bp 20568 to bp 23196 - length ( 2628 )\n",
      "part 7 - bp 23197 to bp 26816 - length ( 3619 )\n",
      "part 8 - bp 26817 to bp 28958 - length ( 2141 )\n",
      "part 9 - bp 28959 to bp 30043 - length ( 1084 )\n",
      "part 10 - bp 30044 to bp 30330 - length ( 286 )\n"
     ]
    }
   ],
   "source": [
    "import re\n",
    "f = open(\"wuhan_isolate-1.txt\",\"r\")\n",
    "genome_seq = f.read().lower()\n",
    "eco_RI = \"gaattc\"\n",
    "restriction_map = []\n",
    "for i in re.finditer(eco_RI, genome_seq):\n",
    "#     print(i.span())\n",
    "    if len(restriction_map)==0:\n",
    "        restriction_map.append(tuple((1, i.span()[0] + 1))) # +1 because it cuts after guanine\n",
    "    else:\n",
    "        restriction_map.append(tuple((restriction_map[-1][1] + 1, i.span()[0] + 1)))\n",
    "\n",
    "restriction_map.append(tuple((restriction_map[-1][1] + 1, len(genome_seq))))\n",
    "i = 1\n",
    "\n",
    "for site in restriction_map:\n",
    "    print(\"part\", i, \"- bp\", site[0], \"to bp\", site[1], \"- length (\", site[1] - site[0], \")\")\n",
    "    i += 1\n",
    "    "
   ]
  },
  {
   "cell_type": "code",
   "execution_count": null,
   "metadata": {},
   "outputs": [],
   "source": []
  }
 ],
 "metadata": {
  "kernelspec": {
   "display_name": "Python 3",
   "language": "python",
   "name": "python3"
  },
  "language_info": {
   "codemirror_mode": {
    "name": "ipython",
    "version": 3
   },
   "file_extension": ".py",
   "mimetype": "text/x-python",
   "name": "python",
   "nbconvert_exporter": "python",
   "pygments_lexer": "ipython3",
   "version": "3.8.10"
  }
 },
 "nbformat": 4,
 "nbformat_minor": 4
}
