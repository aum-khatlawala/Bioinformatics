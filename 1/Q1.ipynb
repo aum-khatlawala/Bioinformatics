{
 "cells": [
  {
   "cell_type": "code",
   "execution_count": 69,
   "metadata": {},
   "outputs": [
    {
     "name": "stdout",
     "output_type": "stream",
     "text": [
      "gtttcattataccagtttagatctatcgacagggcgttgagtgtgtgcttactcacggctggcatgtaggtaacagtagtggggaagcgtaacatctgaggcctgactcacatatagagtgtcgaccaaggggtgaagcatcatacgccatacaggcccctagcgaaacgacctagtctaaagacacacgagaatgaaacccgtggacttggttacagcgtaataatctggtcagagctggtccggcgctggcgatgtaccttacgccactgcaaaccggctttgcagagaacatctgggtacattcccgtgtcatgtcaaagcaggtgattcccgcgaaaaacaattaacgacgcatttgctattgacgaagtcctagttctccgaattgagcgggagacatatgatgtcgagactgcaggaaccgaattatcctgtccgcagatccaatagctcacagaggtaaggggagtgtgatggtgccctagggtgtttgaacg\n"
     ]
    }
   ],
   "source": [
    "dna_sequence = \"\"\"gtttcattataccagtttagatctatcgacagggcgttgagtgtgtgcttactcacggctggcatgtaggtaacagtagtggggaagcgtaacatctgaggcctgactcacatatagagtgtcgaccaaggggtgaagcatcatacgccatacaggcccctagcgaaacgacctagtctaaagacacacgagaatgaaacccgtggacttggttacagcgtaataatctggtcagagctggtccggcgctggcgatgtaccttacgccactgcaaaccggctttgcagagaacatctgggtacattcccgtgtcatgtcaaagcaggtgattcccgcgaaaaacaattaacgacgcatttgctattgacgaagtcctagttctccgaattgagcgggagacatatgatgtcgagactgcaggaaccgaattatcctgtccgcagatccaatagctcacagaggtaaggggagtgtgatggtgccctagggtgtttgaacg\"\"\"\n",
    "# dna_sequence = \"atgcgtggcctatcattaggggctt\"\n",
    "dna_sequence.lower()\n",
    "print(dna_sequence)"
   ]
  },
  {
   "cell_type": "code",
   "execution_count": 70,
   "metadata": {},
   "outputs": [
    {
     "name": "stdout",
     "output_type": "stream",
     "text": [
      "caaagtaatatggtcaaatctagatagctgtcccgcaactcacacacgaatgagtgccgaccgtacatccattgtcatcaccccttcgcattgtagactccggactgagtgtatatctcacagctggttccccacttcgtagtatgcggtatgtccggggatcgctttgctggatcagatttctgtgtgctcttactttgggcacctgaaccaatgtcgcattattagaccagtctcgaccaggccgcgaccgctacatggaatgcggtgacgtttggccgaaacgtctcttgtagacccatgtaagggcacagtacagtttcgtccactaagggcgctttttgttaattgctgcgtaaacgataactgcttcaggatcaagaggcttaactcgccctctgtatactacagctctgacgtccttggcttaataggacaggcgtctaggttatcgagtgtctccattcccctcacactaccacgggatcccacaaacttgc\n"
     ]
    }
   ],
   "source": [
    "reverse_strand_dict = {\n",
    "    'a': 't',\n",
    "    't': 'a',\n",
    "    'g': 'c',\n",
    "    'c': 'g',\n",
    "    '\\n': '\\n'\n",
    "}\n",
    "\n",
    "reverse_dna = \"\"\n",
    "for i in dna_sequence:\n",
    "    reverse_dna += reverse_strand_dict[i]\n",
    "\n",
    "print(reverse_dna)"
   ]
  },
  {
   "cell_type": "code",
   "execution_count": 71,
   "metadata": {},
   "outputs": [
    {
     "name": "stdout",
     "output_type": "stream",
     "text": [
      "guuucauuauaccaguuuagaucuaucgacagggcguugagugugugcuuacucacggcuggcauguagguaacaguaguggggaagcguaacaucugaggccugacucacauauagagugucgaccaaggggugaagcaucauacgccauacaggccccuagcgaaacgaccuagucuaaagacacacgagaaugaaacccguggacuugguuacagcguaauaaucuggucagagcugguccggcgcuggcgauguaccuuacgccacugcaaaccggcuuugcagagaacaucuggguacauucccgugucaugucaaagcaggugauucccgcgaaaaacaauuaacgacgcauuugcuauugacgaaguccuaguucuccgaauugagcgggagacauaugaugucgagacugcaggaaccgaauuauccuguccgcagauccaauagcucacagagguaaggggagugugauggugcccuaggguguuugaacg\n"
     ]
    }
   ],
   "source": [
    "rna_strand_dict = {\n",
    "    'a': 'a',\n",
    "    't': 'u',\n",
    "    'g': 'g',\n",
    "    'c': 'c',\n",
    "    '\\n': '\\n'\n",
    "}\n",
    "\n",
    "rna_synth = \"\"\n",
    "for i in dna_sequence:\n",
    "    rna_synth += rna_strand_dict[i]\n",
    "\n",
    "print(rna_synth)"
   ]
  },
  {
   "cell_type": "code",
   "execution_count": 72,
   "metadata": {},
   "outputs": [],
   "source": [
    "genetic_code = {\n",
    "    \"uuu\": \"Phe\", \"uuc\": \"Phe\", \"uua\": \"Leu\", \"uug\": \"Leu\",\n",
    "    \"ucu\": \"Ser\", \"ucc\": \"Ser\", \"uca\": \"Ser\", \"ucg\": \"Ser\",\n",
    "    \"uau\": \"Tyr\", \"uac\": \"Tyr\", \"uaa\": \"Stop\", \"uag\": \"Stop\",\n",
    "    \"ugu\": \"Cys\", \"ugc\": \"Cys\", \"uga\": \"Stop\", \"ugg\": \"Trp\",\n",
    "    \"cuu\": \"Leu\", \"cuc\": \"Leu\", \"cua\": \"Leu\", \"cug\": \"Leu\",\n",
    "    \"ccu\": \"Pro\", \"ccc\": \"Pro\", \"cca\": \"Pro\", \"ccg\": \"Pro\",\n",
    "    \"cau\": \"His\", \"cac\": \"His\", \"caa\": \"Gln\", \"cag\": \"Gln\",\n",
    "    \"cgu\": \"Arg\", \"cgc\": \"Arg\", \"cga\": \"Arg\", \"cgg\": \"Arg\",\n",
    "    \"auu\": \"Ile\", \"auc\": \"Ile\", \"aua\": \"Ile\", \"aug\": \"Met\",\n",
    "    \"acu\": \"Thr\", \"acc\": \"Thr\", \"aca\": \"Thr\", \"acg\": \"Thr\",\n",
    "    \"aau\": \"Asn\", \"aac\": \"Asn\", \"aaa\": \"Lys\", \"aag\": \"Lys\",\n",
    "    \"agu\": \"Ser\", \"agc\": \"Ser\", \"aga\": \"Arg\", \"agg\": \"Arg\",\n",
    "    \"guu\": \"Val\", \"guc\": \"Val\", \"gua\": \"Val\", \"gug\": \"Val\",\n",
    "    \"gcu\": \"Ala\", \"gcc\": \"Ala\", \"gca\": \"Ala\", \"gcg\": \"Ala\",\n",
    "    \"gau\": \"Asp\", \"gac\": \"Asp\", \"gaa\": \"Glu\", \"gag\": \"Glu\",\n",
    "    \"ggu\": \"Gly\", \"ggc\": \"Gly\", \"gga\": \"Gly\", \"ggg\": \"Gly\"\n",
    "}"
   ]
  },
  {
   "cell_type": "code",
   "execution_count": 80,
   "metadata": {},
   "outputs": [
    {
     "name": "stdout",
     "output_type": "stream",
     "text": [
      "5' to 3' frame 1 : Met  \n",
      "\n",
      "5' to 3' frame 2 : Met Lys Pro Val Asp Leu Val Thr Ala  \n",
      "\n",
      "5' to 3' frame 3 : Met Tyr Leu Thr Pro Leu Gln Thr Gly Phe Ala Glu Asn Ile Trp Val His Ser Arg Val Met Ser Lys Gln Val Ile Pro Ala Lys Asn Asn  \n",
      "\n",
      "5' to 3' frame 2 : Met Met Ser Arg Leu Gln Glu Pro Asn Tyr Pro Val Arg Arg Ser Asn Ser Ser Gln Arg  \n",
      "\n",
      "5' to 3' frame 3 : Met Val Pro  \n",
      "\n"
     ]
    }
   ],
   "source": [
    "protein_synthesised = \"\"\n",
    "protein_synth = []\n",
    "i = 0\n",
    "end = 0\n",
    "start = 0\n",
    "# rna_synthesised = \"aug\" + rna_synth\n",
    "for i in range(len(rna_synth)):\n",
    "    if (rna_synth[i:i+3:] == \"aug\"):\n",
    "        protein_synthesised = \"\"\n",
    "        end = i\n",
    "        start = i\n",
    "        for j in range(i, len(rna_synth), 3):\n",
    "            codon = rna_synth[j:j+3:]\n",
    "            if (len(codon) == 3): # edge case (final subsequence)\n",
    "                if (genetic_code[codon] == \"Stop\"):\n",
    "                    end = j\n",
    "                    break\n",
    "                else:\n",
    "                    protein_synthesised += genetic_code[codon] + ' '\n",
    "            else:\n",
    "                break\n",
    "\n",
    "        if (end == j):    \n",
    "            flag = 1 # add\n",
    "            for y in protein_synth:\n",
    "                x = y.find(protein_synthesised)\n",
    "                if (x != -1):\n",
    "                    flag = 0 # don't add\n",
    "                    break\n",
    "            if (flag == 1):\n",
    "                protein_synth.append(protein_synthesised)\n",
    "                print(\"5' to 3' frame\", start % 3 + 1, \":\", protein_synthesised, \"\\n\")\n",
    "#                 protein_synth.append(protein_synthesised)\n",
    "#             protein_synthesised = protein_synthesised + \"\\n\"\n",
    "                i = end\n",
    "                \n",
    "    i+=1"
   ]
  },
  {
   "cell_type": "code",
   "execution_count": null,
   "metadata": {},
   "outputs": [],
   "source": []
  }
 ],
 "metadata": {
  "kernelspec": {
   "display_name": "Python 3",
   "language": "python",
   "name": "python3"
  },
  "language_info": {
   "codemirror_mode": {
    "name": "ipython",
    "version": 3
   },
   "file_extension": ".py",
   "mimetype": "text/x-python",
   "name": "python",
   "nbconvert_exporter": "python",
   "pygments_lexer": "ipython3",
   "version": "3.8.10"
  }
 },
 "nbformat": 4,
 "nbformat_minor": 4
}
