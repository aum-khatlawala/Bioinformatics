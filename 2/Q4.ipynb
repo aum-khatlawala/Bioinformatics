{
 "cells": [
  {
   "cell_type": "markdown",
   "metadata": {},
   "source": [
    "### 4. Write a program to find ‘most frequent’ 9-mers in Vibrio Cholerae genome (Chr1: NC_002505.1, Chr2: NC_002506.1): (i) exact match, (ii) allowing ‘d’ mismatches. [Hint: count for reverse complements also).\tAre the ‘most frequent’ 9-mers the same in Salmonella enterica (NC_003198.1) as identified in Vibrio Cholerae genome? Plot the GC skew and find which ‘most frequent’ 9-mer is in the vicinity of the region where GC skew changes sign."
   ]
  },
  {
   "cell_type": "code",
   "execution_count": 41,
   "metadata": {},
   "outputs": [
    {
     "name": "stdout",
     "output_type": "stream",
     "text": [
      "Most frequent 9-mers in Vibrio Cholerae genome (Chr1: NC_002505.1, Chr2: NC_002506.1):\n",
      "{'TTTGAGTTT': 272, 'AAACTCAAA': 272, 'AAAAAAGCC': 254, 'GGCTTTTTT': 254, 'CAATCGCTT': 253, 'AAGCGATTG': 253, 'AAAGCCAAA': 246, 'TTTGGCTTT': 246, 'TTGAGCAAG': 244, 'CTTGCTCAA': 244}\n",
      "\n",
      "Most frequent 9-mers in Vibrio Cholerae genome where GC Skew sign changes:\n",
      "{'GGCTTTTTT': 13, 'AAAAAAGCC': 13, 'TGATTTTGC': 12, 'GCAAAATCA': 12, 'TTGTTTTTG': 12, 'CAAAAACAA': 12, 'TCACCACCA': 11, 'TGGTGGTGA': 11, 'CATTATTGA': 10, 'TTTGCTCTT': 10}\n",
      "Most frequent 9-mers in Salmonella enterica:\n",
      "{'CGCCAGCGC': 955, 'GCGCTGGCG': 955, 'GCGCCAGCG': 749, 'CGCTGGCGC': 749, 'CCGCCAGCG': 733, 'CGCTGGCGG': 733, 'CTGGCGCTG': 698, 'CAGCGCCAG': 698, 'GCGGCGGCG': 659, 'CGCCGCCGC': 659}\n",
      "\n",
      "No, the most frequent 9-mers aren't the same in Vibrio Cholerae and Salmonella enterica.\n"
     ]
    }
   ],
   "source": [
    "import collections\n",
    "import itertools\n",
    "import math\n",
    "import numpy as np\n",
    "import heapq\n",
    "def count_kmers(seq, k = 9):\n",
    "    counts = collections.defaultdict(lambda: 0)\n",
    "    num_kmers = len(seq) - k + 1\n",
    "    for i in range(num_kmers):\n",
    "        kmer = seq[i:i+k]\n",
    "        if kmer not in counts:\n",
    "            counts[kmer] = 0\n",
    "        counts[kmer] += 1\n",
    "    return counts\n",
    "\n",
    "def reverse_complement(seq):\n",
    "    return seq.replace('A', 't').replace('T', 'a').replace('G', 'c').replace('C', 'g').upper()[::-1]\n",
    "\n",
    "def merge(dict1, dict2):\n",
    "    for item in dict1:\n",
    "        if item in dict2:\n",
    "            dict1[item] += dict2[item]\n",
    "#             print(dict1[item])\n",
    "        else:\n",
    "            pass\n",
    "    return dict1\n",
    "\n",
    "with open('NC_002505.1.txt', 'r') as file:\n",
    "    vc1 = file.read().replace('\\n', '')\n",
    "dict_1 = count_kmers(vc1)\n",
    "with open('NC_002506.1.txt', 'r') as file:\n",
    "    vc2 = file.read().replace('\\n', '')\n",
    "dict_2 = count_kmers(vc1)\n",
    "with open('NC_003198.1.txt', 'r') as file:\n",
    "    se = file.read().replace('\\n', '')\n",
    "dict_3 = count_kmers(se)\n",
    "\n",
    "dict_12 = count_kmers(vc1 + vc2)\n",
    "dict_12_rev = count_kmers(reverse_complement(vc1) + reverse_complement(vc2))\n",
    "answer = merge(dict_12, dict_12_rev)\n",
    "answer = dict(sorted(answer.items(), key=lambda item: item[1]))\n",
    "answer = dict(collections.OrderedDict(reversed(list(answer.items()))))\n",
    "answer = dict(itertools.islice(answer.items(), 50))\n",
    "y = merge(count_kmers(data), count_kmers(reverse_complement(data)))\n",
    "print(\"Most frequent 9-mers in Vibrio Cholerae genome (Chr1: NC_002505.1, Chr2: NC_002506.1):\")\n",
    "# print(heapq.nlargest(10, answer))\n",
    "answer = dict(itertools.islice(answer.items(), 10))\n",
    "print(answer)\n",
    "print(\"\\nMost frequent 9-mers in Vibrio Cholerae genome where GC Skew sign changes:\")\n",
    "# print(heapq.nlargest(10, y))\n",
    "y = dict(sorted(y.items(), key=lambda item: item[1]))\n",
    "y = dict(collections.OrderedDict(reversed(list(y.items()))))\n",
    "y = dict(itertools.islice(y.items(), 10))\n",
    "print(y)\n",
    "print(\"\\nMost frequent 9-mers in Salmonella enterica:\")\n",
    "z = merge(count_kmers(se), count_kmers(reverse_complement(se)))\n",
    "z = dict(sorted(z.items(), key=lambda item: item[1]))\n",
    "z = dict(collections.OrderedDict(reversed(list(z.items()))))\n",
    "z = dict(itertools.islice(z.items(), 10))\n",
    "print(z)\n",
    "print(\"\\nNo, the most frequent 9-mers aren't the same in Vibrio Cholerae and Salmonella enterica.\")"
   ]
  },
  {
   "cell_type": "code",
   "execution_count": 42,
   "metadata": {},
   "outputs": [
    {
     "name": "stdout",
     "output_type": "stream",
     "text": [
      "GC Skew of Vibrio Cholerae:\n"
     ]
    },
    {
     "data": {
      "image/png": "[encoded data removed]",
      "text/plain": [
       "<Figure size 432x288 with 1 Axes>"
      ]
     },
     "metadata": {
      "needs_background": "light"
     },
     "output_type": "display_data"
    }
   ],
   "source": [
    "n = math.ceil(len(vc1) / 50000)\n",
    "a = np.zeros(n)\n",
    "sets_of_50k = [[] for x in range(n)]\n",
    "for i in range(len(vc1)):\n",
    "    index = math.floor(i / 50000)\n",
    "    sets_of_50k[index].append(vc1[i])\n",
    "\n",
    "i = 0\n",
    "for sample in sets_of_50k:\n",
    "    G = sample.count('G')\n",
    "    C = sample.count('C')\n",
    "    a[i] = (G - C) / (G + C)\n",
    "    i = i + 1\n",
    "import matplotlib.pyplot as plt\n",
    "plt.plot(a)\n",
    "plt.axhline(y = 0)\n",
    "sliced_start = 0\n",
    "sliced_end = 0\n",
    "for i in range(len(a) - 1):\n",
    "    first = a[i] / abs(a[i])\n",
    "    second = a[i + 1] / abs(a[i + 1])\n",
    "    if (first != second):\n",
    "        sliced_start = i * 50000 - 50000\n",
    "        sliced_end = i * 50000 + 50000\n",
    "        break\n",
    "data = vc1[sliced_start:sliced_end]\n",
    "print(\"GC Skew of Vibrio Cholerae:\")\n",
    "dict_5 = count_kmers(data)"
   ]
  },
  {
   "cell_type": "code",
   "execution_count": null,
   "metadata": {},
   "outputs": [],
   "source": []
  }
 ],
 "metadata": {
  "kernelspec": {
   "display_name": "Python 3",
   "language": "python",
   "name": "python3"
  },
  "language_info": {
   "codemirror_mode": {
    "name": "ipython",
    "version": 3
   },
   "file_extension": ".py",
   "mimetype": "text/x-python",
   "name": "python",
   "nbconvert_exporter": "python",
   "pygments_lexer": "ipython3",
   "version": "3.8.10"
  }
 },
 "nbformat": 4,
 "nbformat_minor": 4
}
