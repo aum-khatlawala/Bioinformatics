{
 "cells": [
  {
   "cell_type": "code",
   "execution_count": 1,
   "metadata": {},
   "outputs": [],
   "source": [
    "# fasta to flat\n",
    "with open('NC_045512_fasta.txt', 'r') as fasta:\n",
    "    data = fasta.read().splitlines(True)\n",
    "with open('temp.txt', 'w') as fout:\n",
    "    fout.writelines(data[1:])\n",
    "\n",
    "with open('temp.txt', 'r') as file:\n",
    "    whole_seq_string = file.read().replace('\\n', '').lower()\n",
    "\n",
    "seq_string_arr = [whole_seq_string[i:i+60] for i in range(0, len(whole_seq_string), 60)]\n",
    "\n",
    "with open('NC_045512_fasta.txt', 'r') as fasta:\n",
    "    with open('fa_to_fl.txt', 'w') as flat:\n",
    "        for line in fasta:\n",
    "            flat.write(\"DEFINITION \" + line[1:] + \"\\nORIGIN\\n\")\n",
    "            break\n",
    "        num_tbw = 1\n",
    "        for line in seq_string_arr:\n",
    "            flat.write(\" \" + str(num_tbw) + \" \" + line[0:10] + \" \" + line[10:20] + \" \" + line[20:30] + \" \" + line[30:40] + \" \" + line[40:50] + \" \" + line[50:60] + \"\\n\")\n",
    "            num_tbw += 60\n",
    "        flat.write(\"//\\n\")"
   ]
  },
  {
   "cell_type": "code",
   "execution_count": 2,
   "metadata": {},
   "outputs": [],
   "source": [
    "# flat to fasta\n",
    "with open('NC_045512_flat.txt', 'r') as flat:\n",
    "    with open('fl_to_fa.txt', 'w') as fasta:\n",
    "        whole_seq_string2 = \"\"\n",
    "        for line in flat:\n",
    "            if (line[0:10] == \"DEFINITION\"):\n",
    "                fasta.write(\">\" + line[12:])\n",
    "            elif(line[0:6] == \"ORIGIN\"):\n",
    "                while(line[0:2] != \"//\"):\n",
    "                    line = flat.readline()\n",
    "                    line = line.strip(\" \")\n",
    "                    line = line.replace(\" \", \"\")\n",
    "                    line = line.replace(\"\\n\", \"\")\n",
    "                    line = line.replace(\"0\", \"\")\n",
    "                    line = line.replace(\"1\", \"\")\n",
    "                    line = line.replace(\"2\", \"\")\n",
    "                    line = line.replace(\"3\", \"\")\n",
    "                    line = line.replace(\"4\", \"\")\n",
    "                    line = line.replace(\"5\", \"\")\n",
    "                    line = line.replace(\"6\", \"\")\n",
    "                    line = line.replace(\"7\", \"\")\n",
    "                    line = line.replace(\"8\", \"\")\n",
    "                    line = line.replace(\"9\", \"\")\n",
    "#                     line = line.replace(\"/\", \"\")\n",
    "                    whole_seq_string2 += line.upper()\n",
    "            else:\n",
    "                continue\n",
    "        whole_seq_string2 = whole_seq_string2[:-2]\n",
    "        seq_string_arr2 = [whole_seq_string2[i:i+70] for i in range(0, len(whole_seq_string2), 70)]\n",
    "        for line in seq_string_arr2:\n",
    "            fasta.write(line + \"\\n\")"
   ]
  },
  {
   "cell_type": "code",
   "execution_count": null,
   "metadata": {},
   "outputs": [],
   "source": []
  }
 ],
 "metadata": {
  "kernelspec": {
   "display_name": "Python 3",
   "language": "python",
   "name": "python3"
  },
  "language_info": {
   "codemirror_mode": {
    "name": "ipython",
    "version": 3
   },
   "file_extension": ".py",
   "mimetype": "text/x-python",
   "name": "python",
   "nbconvert_exporter": "python",
   "pygments_lexer": "ipython3",
   "version": "3.8.10"
  }
 },
 "nbformat": 4,
 "nbformat_minor": 4
}
