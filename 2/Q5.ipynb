{
 "cells": [
  {
   "cell_type": "markdown",
   "metadata": {},
   "source": [
    "### 5. Using the k-mer detection program in Q-4 above, carry out comparison of the SARS-CoV-2 genome with bat coronavirus genome using k=6 (exact matches). (i) Based on your analysis can you infer that SARS-CoV-2 coronavirus is related to bat coronavirus? (ii) Based on the GC content of SARS-CoV-2 genome, what can you say about the stability of this virus at high temperatures."
   ]
  },
  {
   "cell_type": "code",
   "execution_count": 2,
   "metadata": {},
   "outputs": [],
   "source": [
    "import collections\n",
    "import itertools\n",
    "import math\n",
    "import numpy as np\n",
    "import heapq"
   ]
  },
  {
   "cell_type": "code",
   "execution_count": 3,
   "metadata": {},
   "outputs": [],
   "source": [
    "def count_kmers(seq, k = 6):\n",
    "    counts = collections.defaultdict(lambda: 0)\n",
    "    num_kmers = len(seq) - k + 1\n",
    "    for i in range(num_kmers):\n",
    "        kmer = seq[i:i+k]\n",
    "        if kmer not in counts:\n",
    "            counts[kmer] = 0\n",
    "        counts[kmer] += 1\n",
    "#     counts = dict(sorted(counts.items(), key=lambda item: item[1]))\n",
    "#     counts = dict(collections.OrderedDict(reversed(list(counts.items()))))\n",
    "#     counts = dict(itertools.islice(counts.items(), 50))\n",
    "    return counts\n",
    "\n",
    "def reverse_complement(seq):\n",
    "    return seq.replace('A', 't').replace('T', 'a').replace('G', 'c').replace('C', 'g').upper()[::-1]\n",
    "\n",
    "def merge(dict1, dict2):\n",
    "    for item in dict2:\n",
    "        dict1[item] += dict2[item]\n",
    "    return dict1\n",
    "\n",
    "with open('sars-cov-2.txt', 'r') as file:\n",
    "    cov = file.read().replace('\\n', '')\n",
    "with open('bat-cov.txt', 'r') as file:\n",
    "    bat = file.read().replace('\\n', '')\n",
    "\n",
    "dict_1 = count_kmers(cov)\n",
    "dict_1_rev_comp = count_kmers(reverse_complement(cov))\n",
    "dict_2 = count_kmers(bat)\n",
    "dict_2_rev_comp = count_kmers(reverse_complement(bat))"
   ]
  },
  {
   "cell_type": "code",
   "execution_count": 4,
   "metadata": {},
   "outputs": [
    {
     "name": "stdout",
     "output_type": "stream",
     "text": [
      "Common k-mer sequences:  49952 \n",
      "Total SARS-CoV-2 k-mer sequences:  59796 \n",
      "Total Bat-CoV k-mer sequences:  59274\n",
      "\n",
      "Based on this, we can infer that SARS-CoV-2 and Bat-CoV are in fact related to a high extent and that they have a similar ORI.\n"
     ]
    }
   ],
   "source": [
    "m1 = merge(dict_1, dict_1_rev_comp)\n",
    "m2 = merge(dict_2, dict_2_rev_comp)\n",
    "common_seq = 0\n",
    "for item in m1:\n",
    "    common_seq += min(m1[item], m2[item])\n",
    "total_cov_seq = sum(m1[x] for x in m1)\n",
    "total_bat_seq = sum(m2[x] for x in m2)\n",
    "print(\"Common k-mer sequences: \", common_seq, \"\\nTotal SARS-CoV-2 k-mer sequences: \", total_cov_seq, \"\\nTotal Bat-CoV k-mer sequences: \", total_bat_seq)\n",
    "print(\"\\nBased on this, we can infer that SARS-CoV-2 and Bat-CoV are in fact related to a high extent and that they have a similar ORI.\")"
   ]
  },
  {
   "cell_type": "code",
   "execution_count": 8,
   "metadata": {},
   "outputs": [
    {
     "name": "stdout",
     "output_type": "stream",
     "text": [
      "SARS-CoV-2 GC content:\n",
      "37.97275434243176 %\n"
     ]
    },
    {
     "data": {
      "image/png": "[encoded data removed]",
      "text/plain": [
       "<Figure size 432x288 with 1 Axes>"
      ]
     },
     "metadata": {
      "needs_background": "light"
     },
     "output_type": "display_data"
    }
   ],
   "source": [
    "n = math.ceil(len(cov) / 500)\n",
    "a = np.zeros(n)\n",
    "sets_of_500 = [[] for x in range(n)]\n",
    "for i in range(len(cov)):\n",
    "    index = math.floor(i / 500)\n",
    "    sets_of_500[index].append(cov[i])\n",
    "\n",
    "i = 0\n",
    "for sample in sets_of_500:\n",
    "    G = sample.count('G')\n",
    "    C = sample.count('C')\n",
    "    A = sample.count('A')\n",
    "    T = sample.count('T')\n",
    "    a[i] = (G + C) / (A + T + G + C)\n",
    "    i = i + 1\n",
    "import matplotlib.pyplot as plt\n",
    "print(\"SARS-CoV-2 GC content:\")\n",
    "plt.plot(a)\n",
    "from statistics import mean\n",
    "ans = mean(a)\n",
    "print(ans * 100, \"%\")"
   ]
  },
  {
   "cell_type": "code",
   "execution_count": 6,
   "metadata": {},
   "outputs": [
    {
     "name": "stdout",
     "output_type": "stream",
     "text": [
      "\n",
      "Since the GC content is less than 50% in general and even reaches 35% at some points, we can say that the virus is unlikely to be stable at high temperatures.\n"
     ]
    }
   ],
   "source": [
    "print(\"\\nSince the GC content is less than 50% in general and even reaches 35% at some points, we can say that the virus is unlikely to be stable at high temperatures.\")"
   ]
  },
  {
   "cell_type": "code",
   "execution_count": null,
   "metadata": {},
   "outputs": [],
   "source": []
  }
 ],
 "metadata": {
  "kernelspec": {
   "display_name": "Python 3",
   "language": "python",
   "name": "python3"
  },
  "language_info": {
   "codemirror_mode": {
    "name": "ipython",
    "version": 3
   },
   "file_extension": ".py",
   "mimetype": "text/x-python",
   "name": "python",
   "nbconvert_exporter": "python",
   "pygments_lexer": "ipython3",
   "version": "3.8.10"
  }
 },
 "nbformat": 4,
 "nbformat_minor": 4
}
